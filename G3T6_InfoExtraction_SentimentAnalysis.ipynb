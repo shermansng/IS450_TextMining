{
  "cells": [
    {
      "cell_type": "markdown",
      "metadata": {
        "id": "nzR-6nd89zGC"
      },
      "source": [
        "# Initializing with setup "
      ]
    },
    {
      "cell_type": "code",
      "execution_count": null,
      "metadata": {
        "colab": {
          "base_uri": "https://localhost:8080/"
        },
        "id": "EutZDkWs5SgH",
        "outputId": "8a46c87c-6b5e-4271-eb4a-12140586322a"
      },
      "outputs": [
        {
          "name": "stdout",
          "output_type": "stream",
          "text": [
            "Mounted at /content/drive\n"
          ]
        }
      ],
      "source": [
        "# Load the Drive helper and mount\n",
        "from google.colab import drive\n",
        "# This will prompt for authorization.\n",
        "drive.mount('/content/drive')\n",
        "# After executing, drive files will be present in \"/content/drive/My Drive\"."
      ]
    },
    {
      "cell_type": "code",
      "execution_count": null,
      "metadata": {
        "colab": {
          "base_uri": "https://localhost:8080/"
        },
        "id": "59mdB8RR4tDJ",
        "outputId": "909516e1-2baa-4677-d270-a8dc685f5afa"
      },
      "outputs": [],
      "source": [
        "!pip install stanza"
      ]
    },
    {
      "cell_type": "code",
      "execution_count": null,
      "metadata": {
        "colab": {
          "base_uri": "https://localhost:8080/"
        },
        "id": "nOwkXoHd1c5j",
        "outputId": "f96de4e8-3c7d-4ee8-d30c-79d004f273fc"
      },
      "outputs": [],
      "source": [
        "!pip install -U spacy==2.1.0 \n",
        "\n",
        "!python -m spacy download en\n",
        "!python -m spacy download en_core_web_lg \n",
        "\n",
        "!pip uninstall -y neuralcoref \n",
        "\n",
        "!pip install neuralcoref --no-binary neuralcoref"
      ]
    },
    {
      "cell_type": "code",
      "execution_count": null,
      "metadata": {
        "colab": {
          "base_uri": "https://localhost:8080/",
          "height": 104,
          "referenced_widgets": [
            "d71eb370cbd34e51b90dcb61664869b0",
            "01665a4aa12c45feb4b1bc8f44eef97b",
            "e18732c91e0b4cb8aa3d6bb23c0f9e5c",
            "f9344245bf904309bd00597b5883f41f",
            "addceca0e6e34dcb9f6da4afbd57efe7",
            "247148c218c046be9d10a28984c716a2",
            "78ed6b51ee6248ff91a34637fb245fc6",
            "7fc76eefc9b64ba59aa07eb3e8d12905",
            "8e20692d7da04c0ba6fde22fb8fcaba0",
            "a8543de9ee2841f9bbde6f5788828a96",
            "a0ba80f58acd428782e20297f832f35d"
          ]
        },
        "id": "I6Rknxkvilgo",
        "outputId": "ad28d01b-02af-4923-8393-56b24f0b4d61"
      },
      "outputs": [
        {
          "name": "stderr",
          "output_type": "stream",
          "text": [
            "2022-04-08 10:18:09 INFO: Installing CoreNLP package into ./corenlp...\n"
          ]
        },
        {
          "data": {
            "application/vnd.jupyter.widget-view+json": {
              "model_id": "d71eb370cbd34e51b90dcb61664869b0",
              "version_major": 2,
              "version_minor": 0
            },
            "text/plain": [
              "Downloading https://huggingface.co/stanfordnlp/CoreNLP/resolve/main/stanford-corenlp-latest.zip:   0%|        …"
            ]
          },
          "metadata": {},
          "output_type": "display_data"
        },
        {
          "name": "stderr",
          "output_type": "stream",
          "text": [
            "2022-04-08 10:18:19 WARNING: For customized installation location, please set the `CORENLP_HOME` environment variable to the location of the installation. In Unix, this is done with `export CORENLP_HOME=./corenlp`.\n"
          ]
        }
      ],
      "source": [
        "import stanza\n",
        "corenlp_dir = './corenlp'\n",
        "stanza.install_corenlp(dir=corenlp_dir)\n",
        "\n",
        "import os\n",
        "os.environ[\"CORENLP_HOME\"] = corenlp_dir"
      ]
    },
    {
      "cell_type": "code",
      "execution_count": null,
      "metadata": {
        "id": "IS9DAZILisgT"
      },
      "outputs": [],
      "source": [
        "# !ls $CORENLP_HOME"
      ]
    },
    {
      "cell_type": "markdown",
      "metadata": {
        "id": "UEL8aP6kj15F"
      },
      "source": [
        "## Start stanza server [Only can run on Google colab]"
      ]
    },
    {
      "cell_type": "code",
      "execution_count": null,
      "metadata": {
        "colab": {
          "base_uri": "https://localhost:8080/"
        },
        "id": "b8ensZCyiybt",
        "outputId": "c386f9a4-2f79-4fb4-8e2b-7d1cb153410f"
      },
      "outputs": [
        {
          "name": "stderr",
          "output_type": "stream",
          "text": [
            "2022-04-08 10:21:42 INFO: Writing properties to tmp file: corenlp_server-a4cf1673d5d3499e.props\n",
            "2022-04-08 10:21:42 INFO: Starting server with command: java -Xmx4G -cp ./corenlp/* edu.stanford.nlp.pipeline.StanfordCoreNLPServer -port 9001 -timeout 60000 -threads 5 -maxCharLength 100000 -quiet True -serverProperties corenlp_server-a4cf1673d5d3499e.props -annotators tokenize,ssplit,pos,lemma,ner -preload -outputFormat serialized\n"
          ]
        },
        {
          "name": "stdout",
          "output_type": "stream",
          "text": [
            "<stanza.server.client.CoreNLPClient object at 0x7f8499824dd0>\n"
          ]
        }
      ],
      "source": [
        "# Only can run on Google colab\n",
        "# Import client module\n",
        "from stanza.server import CoreNLPClient\n",
        "# Construct a CoreNLPClient with some basic annotators, a memory allocation of 4GB, and port number 9001\n",
        "client = CoreNLPClient(\n",
        "    # annotators=['tokenize', 'ner'], \n",
        "    annotators=['tokenize','ssplit', 'pos', 'lemma', 'ner'], \n",
        "    # annotators=['ner'], \n",
        "    memory='4G', \n",
        "    endpoint='http://localhost:9001',\n",
        "    be_quiet=True)\n",
        "print(client)\n",
        "\n",
        "# Start the background server and wait for some time\n",
        "# Note that in practice this is totally optional, as by default the server will be started when the first annotation is performed\n",
        "client.start()\n",
        "import time; time.sleep(10)"
      ]
    },
    {
      "cell_type": "code",
      "execution_count": null,
      "metadata": {
        "id": "m87oRXfji2VN"
      },
      "outputs": [],
      "source": [
        "!ps -o pid,cmd | grep java"
      ]
    },
    {
      "cell_type": "markdown",
      "metadata": {
        "id": "pme3p_XT95wt"
      },
      "source": [
        "# End of initializing"
      ]
    },
    {
      "cell_type": "code",
      "execution_count": null,
      "metadata": {
        "colab": {
          "base_uri": "https://localhost:8080/"
        },
        "id": "XxFaHKzs5fPl",
        "outputId": "2a8241bc-850b-41f6-d47d-a586dbef393e"
      },
      "outputs": [
        {
          "name": "stdout",
          "output_type": "stream",
          "text": [
            "[nltk_data] Downloading package stopwords to /root/nltk_data...\n",
            "[nltk_data]   Unzipping corpora/stopwords.zip.\n",
            "[nltk_data] Downloading package punkt to /root/nltk_data...\n",
            "[nltk_data]   Unzipping tokenizers/punkt.zip.\n",
            "[nltk_data] Downloading package averaged_perceptron_tagger to\n",
            "[nltk_data]     /root/nltk_data...\n",
            "[nltk_data]   Unzipping taggers/averaged_perceptron_tagger.zip.\n"
          ]
        }
      ],
      "source": [
        "import pandas as pd\n",
        "import numpy as np\n",
        "import nltk\n",
        "import re\n",
        "import json\n",
        "import unicodedata\n",
        "\n",
        "import nltk\n",
        "from nltk.tokenize import sent_tokenize\n",
        "from textblob import TextBlob\n",
        "from nltk.corpus import stopwords\n",
        "\n",
        "nltk.download('stopwords')\n",
        "nltk.download('punkt')\n",
        "nltk.download('averaged_perceptron_tagger')\n",
        "tokenizer = nltk.data.load('tokenizers/punkt/PY3/english.pickle')\n",
        "\n",
        "# data_file = pd.read_csv('/content/drive/My Drive/20212022T2/TM/dataset/cnbc.csv')\n",
        "cnbc = pd.read_csv('/content/drive/My Drive/20212022T2/TM/dataset/cnbc.csv')\n",
        "nytimes = pd.read_csv('/content/drive/My Drive/20212022T2/TM/dataset/nytimes.csv')\n",
        "bbc = pd.read_csv('/content/drive/My Drive/20212022T2/TM/dataset/bbc.csv')\n",
        "ukrin = pd.read_csv('/content/drive/My Drive/20212022T2/TM/dataset/ukrinform.csv')\n",
        "cna = pd.read_csv('/content/drive/My Drive/20212022T2/TM/dataset/cna.csv')\n",
        "tass = pd.read_csv('/content/drive/My Drive/20212022T2/TM/dataset/tass.csv')"
      ]
    },
    {
      "cell_type": "code",
      "execution_count": null,
      "metadata": {
        "colab": {
          "base_uri": "https://localhost:8080/"
        },
        "id": "ZB_bCVmxkmM3",
        "outputId": "d73393bc-7bb9-4434-8793-cf17a394c62c"
      },
      "outputs": [
        {
          "name": "stdout",
          "output_type": "stream",
          "text": [
            "<class 'pandas.core.frame.DataFrame'>\n",
            "RangeIndex: 190 entries, 0 to 189\n",
            "Data columns (total 3 columns):\n",
            " #   Column     Non-Null Count  Dtype \n",
            "---  ------     --------------  ----- \n",
            " 0   title      190 non-null    object\n",
            " 1   posted_at  190 non-null    object\n",
            " 2   body       166 non-null    object\n",
            "dtypes: object(3)\n",
            "memory usage: 4.6+ KB\n"
          ]
        }
      ],
      "source": [
        "cnbc.info()"
      ]
    },
    {
      "cell_type": "code",
      "execution_count": null,
      "metadata": {
        "colab": {
          "base_uri": "https://localhost:8080/"
        },
        "id": "rnS-8z4r0V5o",
        "outputId": "8e86ce08-c225-4c08-bec9-71d95973a805"
      },
      "outputs": [
        {
          "name": "stdout",
          "output_type": "stream",
          "text": [
            "<class 'pandas.core.frame.DataFrame'>\n",
            "RangeIndex: 484 entries, 0 to 483\n",
            "Data columns (total 2 columns):\n",
            " #   Column  Non-Null Count  Dtype \n",
            "---  ------  --------------  ----- \n",
            " 0   title   484 non-null    object\n",
            " 1   body    475 non-null    object\n",
            "dtypes: object(2)\n",
            "memory usage: 7.7+ KB\n"
          ]
        }
      ],
      "source": [
        "tass.info()"
      ]
    },
    {
      "cell_type": "code",
      "execution_count": null,
      "metadata": {
        "colab": {
          "base_uri": "https://localhost:8080/"
        },
        "id": "Rguz4NgcB3eU",
        "outputId": "f78e057e-dbe9-4d18-f85c-2f8e8570942c"
      },
      "outputs": [
        {
          "name": "stdout",
          "output_type": "stream",
          "text": [
            "<class 'pandas.core.frame.DataFrame'>\n",
            "RangeIndex: 52 entries, 0 to 51\n",
            "Data columns (total 3 columns):\n",
            " #   Column     Non-Null Count  Dtype \n",
            "---  ------     --------------  ----- \n",
            " 0   title      52 non-null     object\n",
            " 1   posted_at  52 non-null     object\n",
            " 2   body       51 non-null     object\n",
            "dtypes: object(3)\n",
            "memory usage: 1.3+ KB\n"
          ]
        }
      ],
      "source": [
        "nytimes.info()"
      ]
    },
    {
      "cell_type": "code",
      "execution_count": null,
      "metadata": {
        "colab": {
          "base_uri": "https://localhost:8080/"
        },
        "id": "qJDA3Nz3_tZ9",
        "outputId": "e5ca47b3-de14-43dd-c361-50810e4750d8"
      },
      "outputs": [
        {
          "name": "stdout",
          "output_type": "stream",
          "text": [
            "<class 'pandas.core.frame.DataFrame'>\n",
            "RangeIndex: 538 entries, 0 to 537\n",
            "Data columns (total 3 columns):\n",
            " #   Column     Non-Null Count  Dtype \n",
            "---  ------     --------------  ----- \n",
            " 0   title      538 non-null    object\n",
            " 1   posted_at  538 non-null    object\n",
            " 2   body       337 non-null    object\n",
            "dtypes: object(3)\n",
            "memory usage: 12.7+ KB\n"
          ]
        }
      ],
      "source": [
        "bbc.info()"
      ]
    },
    {
      "cell_type": "code",
      "execution_count": null,
      "metadata": {
        "colab": {
          "base_uri": "https://localhost:8080/"
        },
        "id": "tjdzt0SyDtsb",
        "outputId": "d8b3a390-85fc-4a5e-c336-f7b687ebe208"
      },
      "outputs": [
        {
          "name": "stdout",
          "output_type": "stream",
          "text": [
            "<class 'pandas.core.frame.DataFrame'>\n",
            "RangeIndex: 30 entries, 0 to 29\n",
            "Data columns (total 3 columns):\n",
            " #   Column     Non-Null Count  Dtype \n",
            "---  ------     --------------  ----- \n",
            " 0   title      30 non-null     object\n",
            " 1   posted_at  30 non-null     object\n",
            " 2   body       30 non-null     object\n",
            "dtypes: object(3)\n",
            "memory usage: 848.0+ bytes\n"
          ]
        }
      ],
      "source": [
        "ukrin.info()"
      ]
    },
    {
      "cell_type": "code",
      "execution_count": null,
      "metadata": {
        "colab": {
          "base_uri": "https://localhost:8080/"
        },
        "id": "Uc2hBedrE5x7",
        "outputId": "b04b77c1-d6ad-481d-add2-2e39598035b3"
      },
      "outputs": [
        {
          "name": "stdout",
          "output_type": "stream",
          "text": [
            "<class 'pandas.core.frame.DataFrame'>\n",
            "RangeIndex: 40 entries, 0 to 39\n",
            "Data columns (total 3 columns):\n",
            " #   Column     Non-Null Count  Dtype \n",
            "---  ------     --------------  ----- \n",
            " 0   title      40 non-null     object\n",
            " 1   posted_at  40 non-null     object\n",
            " 2   body       40 non-null     object\n",
            "dtypes: object(3)\n",
            "memory usage: 1.1+ KB\n"
          ]
        }
      ],
      "source": [
        "cna.info()"
      ]
    },
    {
      "cell_type": "code",
      "execution_count": null,
      "metadata": {
        "id": "Xn-RxjFRvyOx"
      },
      "outputs": [],
      "source": [
        "# Remove missing value\n",
        "cnbc.dropna(inplace = True)\n",
        "nytimes.dropna(inplace = True)\n",
        "bbc.dropna(inplace = True)\n",
        "ukrin.dropna(inplace = True)\n",
        "cna.dropna(inplace = True)\n",
        "tass.dropna(inplace = True)"
      ]
    },
    {
      "cell_type": "code",
      "execution_count": null,
      "metadata": {
        "id": "L4jJbKnyChGJ"
      },
      "outputs": [],
      "source": [
        "# Remove duplicates from washpost\n",
        "cnbc.drop_duplicates(inplace = True)"
      ]
    },
    {
      "cell_type": "code",
      "execution_count": null,
      "metadata": {
        "id": "a_juF-ER8HdR"
      },
      "outputs": [],
      "source": [
        "nytimes.drop_duplicates(inplace = True)"
      ]
    },
    {
      "cell_type": "code",
      "execution_count": null,
      "metadata": {
        "id": "e1CGWbQ8-KjL"
      },
      "outputs": [],
      "source": [
        "bbc.drop_duplicates(inplace = True)"
      ]
    },
    {
      "cell_type": "code",
      "execution_count": null,
      "metadata": {
        "id": "DOdgij_uD0WB"
      },
      "outputs": [],
      "source": [
        "ukrin.drop_duplicates(inplace = True)"
      ]
    },
    {
      "cell_type": "code",
      "execution_count": null,
      "metadata": {
        "id": "MKWUUfcsE2rQ"
      },
      "outputs": [],
      "source": [
        "cna.drop_duplicates(inplace = True)"
      ]
    },
    {
      "cell_type": "code",
      "execution_count": null,
      "metadata": {
        "id": "39aLco5-1C0c"
      },
      "outputs": [],
      "source": [
        "tass.drop_duplicates(inplace = True)"
      ]
    },
    {
      "cell_type": "markdown",
      "metadata": {
        "id": "eNgSoYYa36af"
      },
      "source": [
        "# Information Extraction"
      ]
    },
    {
      "cell_type": "code",
      "execution_count": null,
      "metadata": {
        "colab": {
          "base_uri": "https://localhost:8080/"
        },
        "id": "nT3hvy2vt0PK",
        "outputId": "3e4de374-b503-4cfe-89cf-5c137fe87102"
      },
      "outputs": [
        {
          "name": "stderr",
          "output_type": "stream",
          "text": [
            "100%|██████████| 40155833/40155833 [00:02<00:00, 16105161.99B/s]\n"
          ]
        }
      ],
      "source": [
        "# Import necessary libraries\n",
        "import spacy\n",
        "import neuralcoref\n",
        "\n",
        "def coreference_resolution(data):\n",
        "  # Load the model\n",
        "  nlp = spacy.load(\"en_core_web_lg\")\n",
        "  neuralcoref.add_to_pipe(nlp)\n",
        "\n",
        "  new_str = \"\"\n",
        "  for index, row in data.iterrows():\n",
        "    new_str = unicodedata.normalize(\"NFKD\", str(row[\"body\"]))\n",
        "    doc = nlp(new_str)  \n",
        "    row[\"body\"] = doc._.coref_resolved\n",
        "\n",
        "  return data"
      ]
    },
    {
      "cell_type": "code",
      "execution_count": null,
      "metadata": {
        "id": "9JaPehj47Xxm"
      },
      "outputs": [],
      "source": [
        "def ner(data_file, ner_list):\n",
        "  for index, row in data_file.iterrows():\n",
        "    temp_ner_article = []\n",
        "    new_str = unicodedata.normalize(\"NFKD\", str(row[\"body\"]))\n",
        "    test = client.annotate(new_str)\n",
        "    ignore_word = ['cnbc', 'CNBC', 'of', 'He','he','his','she','She','her']\n",
        "    unique_list = []\n",
        "    for i, sent in enumerate(test.sentence):\n",
        "        for t in sent.mentions:\n",
        "          if t.entityMentionText not in ignore_word:\n",
        "            if t.ner == \"PERSON\" or t.ner == \"ORGANIZATION\" or t.ner == \"COUNTRY\":\n",
        "              if t.entityMentionText not in unique_list:\n",
        "                unique_list.append(t.entityMentionText)\n",
        "                temp_ner_article.append([t.entityMentionText, t.ner])\n",
        "    ner_list.append(temp_ner_article)"
      ]
    },
    {
      "cell_type": "code",
      "execution_count": null,
      "metadata": {
        "colab": {
          "base_uri": "https://localhost:8080/"
        },
        "id": "7UtedIh0HOfa",
        "outputId": "8e000d84-7a40-4171-d899-1bd478cbf8a6"
      },
      "outputs": [
        {
          "name": "stdout",
          "output_type": "stream",
          "text": [
            "Collecting en_core_web_lg==2.1.0\n",
            "  Downloading https://github.com/explosion/spacy-models/releases/download/en_core_web_lg-2.1.0/en_core_web_lg-2.1.0.tar.gz (826.9 MB)\n",
            "\u001b[K     |████████████████████████████████| 826.9 MB 1.2 MB/s \n",
            "\u001b[?25h\u001b[38;5;2m✔ Download and installation successful\u001b[0m\n",
            "You can now load the model via spacy.load('en_core_web_lg')\n"
          ]
        }
      ],
      "source": [
        "!python -m spacy download en_core_web_lg "
      ]
    },
    {
      "cell_type": "code",
      "execution_count": null,
      "metadata": {
        "id": "7wLEpSLNKbd2"
      },
      "outputs": [],
      "source": [
        "# Return unique ne from news sources\n",
        "def unique_ne(data):\n",
        "  unique_ne = []\n",
        "  for article in data:\n",
        "    for ne in article:\n",
        "      if ne[0] not in unique_ne:\n",
        "        unique_ne.append(ne[0])\n",
        "  return unique_ne"
      ]
    },
    {
      "cell_type": "code",
      "execution_count": null,
      "metadata": {
        "colab": {
          "base_uri": "https://localhost:8080/",
          "height": 311
        },
        "id": "kPmf1ugQ4D4I",
        "outputId": "a8a748f1-734a-45b7-d4ce-1710a95ca7ce"
      },
      "outputs": [],
      "source": [
        "cnbc = coreference_resolution(cnbc)"
      ]
    },
    {
      "cell_type": "code",
      "execution_count": null,
      "metadata": {
        "id": "28qhVuXx8LhW"
      },
      "outputs": [],
      "source": [
        "nytimes = coreference_resolution(nytimes)"
      ]
    },
    {
      "cell_type": "code",
      "execution_count": null,
      "metadata": {
        "id": "EOECZIFe-PuY"
      },
      "outputs": [],
      "source": [
        "bbc = coreference_resolution(bbc)"
      ]
    },
    {
      "cell_type": "code",
      "execution_count": null,
      "metadata": {
        "id": "KB36UKeoD9dB"
      },
      "outputs": [],
      "source": [
        "ukrin = coreference_resolution(ukrin)"
      ]
    },
    {
      "cell_type": "code",
      "execution_count": null,
      "metadata": {
        "id": "Rlm5qgWxEtiZ"
      },
      "outputs": [],
      "source": [
        "cna = coreference_resolution(cna)"
      ]
    },
    {
      "cell_type": "code",
      "execution_count": null,
      "metadata": {
        "id": "VUs7Gubq1Ubd"
      },
      "outputs": [],
      "source": [
        "tass = coreference_resolution(tass)"
      ]
    },
    {
      "cell_type": "code",
      "execution_count": null,
      "metadata": {
        "id": "9Vy5kPcF7i_y"
      },
      "outputs": [],
      "source": [
        "cnbc_ner = []\n",
        "ner(cnbc, cnbc_ner)"
      ]
    },
    {
      "cell_type": "code",
      "execution_count": null,
      "metadata": {
        "id": "-nxdnsjtinMQ"
      },
      "outputs": [],
      "source": [
        "cnbc_unique_ne = unique_ne(cnbc_ner)"
      ]
    },
    {
      "cell_type": "code",
      "execution_count": null,
      "metadata": {
        "id": "G4M8AkYoT--L"
      },
      "outputs": [],
      "source": [
        "cnbc_ner[0]"
      ]
    },
    {
      "cell_type": "code",
      "execution_count": null,
      "metadata": {
        "id": "97qfpMeRLu0F"
      },
      "outputs": [],
      "source": [
        "cnbc_unique_ne"
      ]
    },
    {
      "cell_type": "code",
      "execution_count": null,
      "metadata": {
        "id": "ju3AxP5hLO28"
      },
      "outputs": [],
      "source": [
        "nytimes_ner = []\n",
        "ner(nytimes, nytimes_ner)"
      ]
    },
    {
      "cell_type": "code",
      "execution_count": null,
      "metadata": {
        "id": "A84du4SlmQ9G"
      },
      "outputs": [],
      "source": [
        "nytimes_unique_ne = unique_ne(nytimes_ner)"
      ]
    },
    {
      "cell_type": "code",
      "execution_count": null,
      "metadata": {
        "id": "DfBBhj4MLWA7"
      },
      "outputs": [],
      "source": [
        "nytimes_ner[0]"
      ]
    },
    {
      "cell_type": "code",
      "execution_count": null,
      "metadata": {
        "id": "8L0q-4W9-X-z"
      },
      "outputs": [],
      "source": [
        "bbc_ner = []\n",
        "ner(bbc, bbc_ner)"
      ]
    },
    {
      "cell_type": "code",
      "execution_count": null,
      "metadata": {
        "id": "-FYOJSqo-YDs"
      },
      "outputs": [],
      "source": [
        "bbc_unique_ne = unique_ne(bbc_ner)"
      ]
    },
    {
      "cell_type": "code",
      "execution_count": null,
      "metadata": {
        "id": "QAZQGxaz-YKG"
      },
      "outputs": [],
      "source": [
        "bbc_ner[2]"
      ]
    },
    {
      "cell_type": "code",
      "execution_count": null,
      "metadata": {
        "id": "iRta7XZ-D50w"
      },
      "outputs": [],
      "source": [
        "ukrin_ner = []\n",
        "ner(ukrin, ukrin_ner)"
      ]
    },
    {
      "cell_type": "code",
      "execution_count": null,
      "metadata": {
        "id": "x7sOwWVvD50x"
      },
      "outputs": [],
      "source": [
        "ukrin_unique_ne = unique_ne(ukrin_ner)"
      ]
    },
    {
      "cell_type": "code",
      "execution_count": null,
      "metadata": {
        "id": "ToumL8BCD50x"
      },
      "outputs": [],
      "source": [
        "ukrin_ner[0]"
      ]
    },
    {
      "cell_type": "code",
      "execution_count": null,
      "metadata": {
        "id": "klH9Ps-qEw1A"
      },
      "outputs": [],
      "source": [
        "cna_ner = []\n",
        "ner(cna, cna_ner)"
      ]
    },
    {
      "cell_type": "code",
      "execution_count": null,
      "metadata": {
        "id": "FPGdCXeuEw1A"
      },
      "outputs": [],
      "source": [
        "cna_unique_ne = unique_ne(cna_ner)"
      ]
    },
    {
      "cell_type": "code",
      "execution_count": null,
      "metadata": {
        "id": "osH54DF-Ew1A"
      },
      "outputs": [],
      "source": [
        "cna_ner[0]"
      ]
    },
    {
      "cell_type": "code",
      "execution_count": null,
      "metadata": {
        "id": "02njfdGh2_z_"
      },
      "outputs": [],
      "source": [
        "tass_ner = []\n",
        "ner(tass, tass_ner)"
      ]
    },
    {
      "cell_type": "code",
      "execution_count": null,
      "metadata": {
        "id": "SSTF2qAE2_z_"
      },
      "outputs": [],
      "source": [
        "tass_unique_ne = unique_ne(tass_ner)"
      ]
    },
    {
      "cell_type": "code",
      "execution_count": null,
      "metadata": {
        "id": "kQY1edjf2_z_"
      },
      "outputs": [],
      "source": [
        "tass_ner[0]"
      ]
    },
    {
      "cell_type": "markdown",
      "metadata": {
        "id": "U-KT_Q5qfEuN"
      },
      "source": [
        "# Sentence Splitting"
      ]
    },
    {
      "cell_type": "code",
      "execution_count": null,
      "metadata": {
        "id": "hNS0E-glQ_fe"
      },
      "outputs": [],
      "source": [
        "def sentence_split(data_file, article_list):\n",
        "    for index, row in data_file.iterrows():\n",
        "        sentence = []\n",
        "        new_str = unicodedata.normalize(\"NFKD\", str(row[\"body\"]))\n",
        "        text = new_str.split(\". \")\n",
        "        article_list.append(text)"
      ]
    },
    {
      "cell_type": "code",
      "execution_count": null,
      "metadata": {
        "id": "OPxCmoiO_3I7"
      },
      "outputs": [],
      "source": [
        "cnbc_articles = []\n",
        "sentence_split(cnbc, cnbc_articles)"
      ]
    },
    {
      "cell_type": "code",
      "execution_count": null,
      "metadata": {
        "id": "VKalmKs-JRWT"
      },
      "outputs": [],
      "source": [
        "cnbc_articles[0]"
      ]
    },
    {
      "cell_type": "code",
      "execution_count": null,
      "metadata": {
        "id": "iHsgTErwA9a1"
      },
      "outputs": [],
      "source": [
        "nytimes_articles = []\n",
        "sentence_split(nytimes, nytimes_articles)"
      ]
    },
    {
      "cell_type": "code",
      "execution_count": null,
      "metadata": {
        "id": "WIVYOLkz_6jm"
      },
      "outputs": [],
      "source": [
        "bbc_articles = []\n",
        "sentence_split(bbc, bbc_articles)"
      ]
    },
    {
      "cell_type": "code",
      "execution_count": null,
      "metadata": {
        "id": "x4uiRQ1jEGSZ"
      },
      "outputs": [],
      "source": [
        "ukrin_articles = []\n",
        "sentence_split(ukrin, ukrin_articles)"
      ]
    },
    {
      "cell_type": "code",
      "execution_count": null,
      "metadata": {
        "id": "aSOeVHZrEG2i"
      },
      "outputs": [],
      "source": [
        "cna_articles = []\n",
        "sentence_split(cna, cna_articles)"
      ]
    },
    {
      "cell_type": "code",
      "execution_count": null,
      "metadata": {
        "id": "boZvEQhH3K9w"
      },
      "outputs": [],
      "source": [
        "tass_articles = []\n",
        "sentence_split(tass, tass_articles)"
      ]
    },
    {
      "cell_type": "code",
      "execution_count": null,
      "metadata": {
        "id": "SCQY6Zn_5oWE"
      },
      "outputs": [],
      "source": [
        "tass_articles"
      ]
    },
    {
      "cell_type": "markdown",
      "metadata": {
        "id": "nQ2Se4xf3Ya_"
      },
      "source": [
        "# Sentiments analysis"
      ]
    },
    {
      "cell_type": "code",
      "execution_count": null,
      "metadata": {
        "id": "YhjfKWKAAhxU"
      },
      "outputs": [],
      "source": [
        "# Return polarity with positve, negative, neutral\n",
        "def sentiments(row):\n",
        "    if row['Polarity'] > 0:\n",
        "        return \"Positive\"\n",
        "    elif row['Polarity'] == 0:\n",
        "        return \"Neutral\"\n",
        "    else:\n",
        "        return \"Negative\""
      ]
    },
    {
      "cell_type": "code",
      "execution_count": null,
      "metadata": {
        "id": "8dsh--O1jfeU"
      },
      "outputs": [],
      "source": [
        "# sentence that NE exist\n",
        "def entity_sentence(data, ner_list, article_entity):\n",
        "  for i in range(len(data)):\n",
        "    entity_sen_list = []\n",
        "    for sentence in data[i]:\n",
        "      for ner in ner_list[i]:\n",
        "        if ner[0] in sentence:\n",
        "          entity_sen_list.append(sentence)\n",
        "          break\n",
        "          \n",
        "    article_entity.append(entity_sen_list)"
      ]
    },
    {
      "cell_type": "code",
      "execution_count": null,
      "metadata": {
        "id": "B_vi69P8rKgm"
      },
      "outputs": [],
      "source": [
        "# get all news article headline\n",
        "def get_title(data):\n",
        "  title_list = []\n",
        "  for index, row in data.iterrows():\n",
        "    title_list.append(row[\"title\"])\n",
        "  \n",
        "  return title_list\n"
      ]
    },
    {
      "cell_type": "code",
      "execution_count": null,
      "metadata": {
        "id": "cJb3s_5WnmCy"
      },
      "outputs": [],
      "source": [
        "# Group article by entity\n",
        "def group_article_by_entity(ner_list, entity_sentence, group_entity_article): \n",
        "  for i in range(len(ner_list)):\n",
        "    # print(cnbc_ner[i][0])\n",
        "    ner_group = []\n",
        "    for j in range(len(ner_list[i])):\n",
        "      word = ner_list[i][j][0]\n",
        "      output = []\n",
        "      for sentence in entity_sentence[i]:\n",
        "        if word in sentence:\n",
        "          output.append(sentence)\n",
        "          # print(output)\n",
        "      ner_group.append([word, output])\n",
        "    group_entity_article.append(ner_group)\n",
        "    \n",
        "  \n",
        "\n",
        "  for i in group_entity_article:\n",
        "    for j in i:\n",
        "      j.append(len(j[1]))\n",
        "      j[1] = \" \".join(str(sen) for sen in j[1])"
      ]
    },
    {
      "cell_type": "code",
      "execution_count": null,
      "metadata": {
        "id": "tZymbWvenC9N"
      },
      "outputs": [],
      "source": [
        "# Get sentimetns by entity from each article\n",
        "def get_sentiments_by_entity_for_each_article(news_sources, group_entity_article, sentiments_list):\n",
        "  title = get_title(news_sources)\n",
        "  for i in range(len(group_entity_article)):\n",
        "      for j in group_entity_article[i]:\n",
        "        token = tokenizer.tokenize(j[1])\n",
        "        a = 0\n",
        "        b = 0\n",
        "        for s in token:\n",
        "          txt= TextBlob(s)\n",
        "          a += txt.sentiment.polarity\n",
        "          b += txt.sentiment.subjectivity\n",
        "        # title, polarity, subjectivity, entity, no of sentence\n",
        "        sentiments_list.append([title[i], a, b, j[0], j[2]])\n"
      ]
    },
    {
      "cell_type": "code",
      "execution_count": null,
      "metadata": {
        "id": "HpfWXBk9mxpX"
      },
      "outputs": [],
      "source": [
        "# # Get unique entity sentiments from all articles [simple average]\n",
        "# def unique_entity_sentiemnt(unique_ne_list, sentiments_list, entity_sentiment_list):\n",
        "#   for i in unique_ne_list:\n",
        "#     subj = 0\n",
        "#     polarity = 0\n",
        "#     count = 0\n",
        "#     for j in sentiments_list:\n",
        "#       if j[3] == i:\n",
        "#         count += 1\n",
        "#         subj += j[2]\n",
        "#         polarity += j[1]\n",
        "#         # print(j)\n",
        "\n",
        "#     avg_subj = subj/count\n",
        "#     avg_polarity = polarity/count\n",
        "#     entity_sentiment_list.append([i, avg_polarity, avg_subj])\n",
        "\n",
        "#     print(avg_polarity)\n"
      ]
    },
    {
      "cell_type": "code",
      "execution_count": null,
      "metadata": {
        "id": "9MAGx7zhPldk"
      },
      "outputs": [],
      "source": [
        "# Get unique entity sentiments from all articles [weighted average]\n",
        "def unique_entity_sentiemnt(unique_ne_list, sentiments_list, entity_sentiment_list):\n",
        "  for i in unique_ne_list:\n",
        "    subj = 0\n",
        "    polarity = 0\n",
        "    total_sen = 0\n",
        "    temp_list = []\n",
        "    avg_polarity = 0\n",
        "    avg_subj = 0\n",
        "    for j in sentiments_list:\n",
        "      if j[3] == i:\n",
        "        total_sen += j[4]\n",
        "        temp_list.append([j[1], j[2], j[4]])\n",
        "    # [polarity, subjectivity, total sen]\n",
        "    for item in temp_list:\n",
        "      if total_sen != 0:\n",
        "        avg_polarity += item[0] * (item[2]/total_sen)\n",
        "        avg_subj += item[1] * (item[2]/total_sen)\n",
        "    entity_sentiment_list.append([i, avg_polarity, avg_subj])"
      ]
    },
    {
      "cell_type": "code",
      "execution_count": null,
      "metadata": {
        "id": "QZwjOxug1Q1I"
      },
      "outputs": [],
      "source": [
        "#Remove Stopwords from article \n",
        "def remove_stopword(articles):\n",
        "  stopwords = nltk.corpus.stopwords.words('english')\n",
        "  for i in articles:\n",
        "    text = i[1].lower()\n",
        "    words = re.sub(r'[^\\w\\s]', '', text).split()\n",
        "    i[1] = ' '.join([str(word) for word in words if word not in stopwords])"
      ]
    },
    {
      "cell_type": "code",
      "execution_count": null,
      "metadata": {
        "id": "0V4x5wnBCU4p"
      },
      "outputs": [],
      "source": [
        "remove_stopword(cnbc_articles)"
      ]
    },
    {
      "cell_type": "code",
      "execution_count": null,
      "metadata": {
        "id": "h5yAxPDI87oq"
      },
      "outputs": [],
      "source": [
        "remove_stopword(bbc_articles)"
      ]
    },
    {
      "cell_type": "code",
      "execution_count": null,
      "metadata": {
        "id": "gTMWReDD87y5"
      },
      "outputs": [],
      "source": [
        "remove_stopword(nytimes_articles)"
      ]
    },
    {
      "cell_type": "code",
      "execution_count": null,
      "metadata": {
        "id": "5lrmK9BdEMPg"
      },
      "outputs": [],
      "source": [
        "remove_stopword(ukrin_articles)"
      ]
    },
    {
      "cell_type": "code",
      "execution_count": null,
      "metadata": {
        "id": "7ZQizsENEoyP"
      },
      "outputs": [],
      "source": [
        "remove_stopword(cna_articles)"
      ]
    },
    {
      "cell_type": "code",
      "execution_count": null,
      "metadata": {
        "id": "XczJ1ddD7OAN"
      },
      "outputs": [],
      "source": [
        "remove_stopword(tass_articles)"
      ]
    },
    {
      "cell_type": "markdown",
      "metadata": {
        "id": "uoB6Fy2cAmPp"
      },
      "source": [
        "# CNBC"
      ]
    },
    {
      "cell_type": "code",
      "execution_count": null,
      "metadata": {
        "id": "AsY7x7HijpdA"
      },
      "outputs": [],
      "source": [
        "cnbc_entity_sen = []\n",
        "entity_sentence(cnbc_articles, cnbc_ner, cnbc_entity_sen)"
      ]
    },
    {
      "cell_type": "code",
      "execution_count": null,
      "metadata": {
        "id": "RDRAuW5pn5m7"
      },
      "outputs": [],
      "source": [
        "cnbc_entity_sen"
      ]
    },
    {
      "cell_type": "code",
      "execution_count": null,
      "metadata": {
        "id": "zctTCsCan8uS"
      },
      "outputs": [],
      "source": [
        "cnbc_ner"
      ]
    },
    {
      "cell_type": "code",
      "execution_count": null,
      "metadata": {
        "id": "GMDKjzVm37u_"
      },
      "outputs": [],
      "source": [
        "cnbc_sentiment=[]\n",
        "# [Entity, article sen, No of sen]\n",
        "group_cnbc = []"
      ]
    },
    {
      "cell_type": "code",
      "execution_count": null,
      "metadata": {
        "id": "53_esC5P85zV"
      },
      "outputs": [],
      "source": [
        "group_article_by_entity(cnbc_ner, cnbc_entity_sen, group_cnbc)"
      ]
    },
    {
      "cell_type": "code",
      "execution_count": null,
      "metadata": {
        "id": "u0YJUwfV3YfS"
      },
      "outputs": [],
      "source": [
        "get_sentiments_by_entity_for_each_article(cnbc, group_cnbc, cnbc_sentiment)"
      ]
    },
    {
      "cell_type": "code",
      "execution_count": null,
      "metadata": {
        "id": "ULKXkfjfiquQ"
      },
      "outputs": [],
      "source": [
        "cnbc_entity_sentiment = []\n",
        "unique_entity_sentiemnt(cnbc_unique_ne, cnbc_sentiment, cnbc_entity_sentiment)"
      ]
    },
    {
      "cell_type": "code",
      "execution_count": null,
      "metadata": {
        "id": "ToZ8Cx4r1r7b"
      },
      "outputs": [],
      "source": [
        "cnbc_entity_sentiment"
      ]
    },
    {
      "cell_type": "code",
      "execution_count": null,
      "metadata": {
        "id": "0wxBYlFrkroP"
      },
      "outputs": [],
      "source": [
        "df_textblob = pd.DataFrame(cnbc_entity_sentiment, columns =['Entity', 'Polarity', 'Subjectivity']) \n",
        "df_textblob[\"Sentiments\"] = df_textblob.apply(sentiments, axis= 1)"
      ]
    },
    {
      "cell_type": "code",
      "execution_count": null,
      "metadata": {
        "id": "lBJT_-46kyjD"
      },
      "outputs": [],
      "source": [
        "pd.set_option('display.max_rows', None)\n",
        "df_textblob"
      ]
    },
    {
      "cell_type": "code",
      "execution_count": null,
      "metadata": {
        "id": "JFyI2MOCGYJh"
      },
      "outputs": [],
      "source": [
        "df_textblob.to_excel(\"cnbc.xlsx\", index=False)"
      ]
    },
    {
      "cell_type": "code",
      "execution_count": null,
      "metadata": {
        "id": "AHktNu1w3apl"
      },
      "outputs": [],
      "source": [
        "# df_textblob = pd.DataFrame(cnbc_sentiment, columns =['Title', 'Polarity', 'Subjectivity', 'NE']) \n",
        "# df_textblob[\"Sentiments\"] = df_textblob.apply(sentiments, axis= 1)"
      ]
    },
    {
      "cell_type": "markdown",
      "metadata": {
        "id": "-F8ICh6ZAxGo"
      },
      "source": [
        "# Nytimes"
      ]
    },
    {
      "cell_type": "code",
      "execution_count": null,
      "metadata": {
        "id": "4T4h7hpzAyit"
      },
      "outputs": [],
      "source": [
        "ny_sentiment=[]\n",
        "ny_entity_sen = []\n",
        "group_ny = []\n",
        "entity_sentence(nytimes_articles, nytimes_ner, ny_entity_sen)"
      ]
    },
    {
      "cell_type": "code",
      "execution_count": null,
      "metadata": {
        "id": "ArrPHCWBA1Xi"
      },
      "outputs": [],
      "source": [
        "group_article_by_entity(nytimes_ner, ny_entity_sen, group_ny)"
      ]
    },
    {
      "cell_type": "code",
      "execution_count": null,
      "metadata": {
        "id": "6iTwvkPaK64f"
      },
      "outputs": [],
      "source": [
        "get_sentiments_by_entity_for_each_article(nytimes, group_ny, ny_sentiment)"
      ]
    },
    {
      "cell_type": "code",
      "execution_count": null,
      "metadata": {
        "id": "6KeuqXhppn-3"
      },
      "outputs": [],
      "source": [
        "nytimes_entity_sentiment = []\n",
        "unique_entity_sentiemnt(nytimes_unique_ne, ny_sentiment, nytimes_entity_sentiment)"
      ]
    },
    {
      "cell_type": "code",
      "execution_count": null,
      "metadata": {
        "id": "zvV3gzKMpgYY"
      },
      "outputs": [],
      "source": [
        "df_textblob = pd.DataFrame(nytimes_entity_sentiment, columns =['Named Entity', 'Polarity', 'Subjectivity']) \n",
        "df_textblob[\"Sentiments\"] = df_textblob.apply(sentiments, axis= 1)"
      ]
    },
    {
      "cell_type": "code",
      "execution_count": null,
      "metadata": {
        "id": "xPcTi7k5pgYd"
      },
      "outputs": [],
      "source": [
        "pd.set_option('display.max_rows', None)\n",
        "df_textblob"
      ]
    },
    {
      "cell_type": "code",
      "execution_count": null,
      "metadata": {
        "id": "Z8Vk6YCYGOS9"
      },
      "outputs": [],
      "source": [
        "df_textblob.to_excel(\"nytimes.xlsx\", index=False)"
      ]
    },
    {
      "cell_type": "markdown",
      "metadata": {
        "id": "M_pZ3dX6ArKd"
      },
      "source": [
        "# BBC"
      ]
    },
    {
      "cell_type": "code",
      "execution_count": null,
      "metadata": {
        "id": "FooDaj4U-rqk"
      },
      "outputs": [],
      "source": [
        "bbc_sentiment=[]\n",
        "bbc_entity_sen = []\n",
        "group_bbc = []\n",
        "entity_sentence(bbc_articles, bbc_ner, bbc_entity_sen)"
      ]
    },
    {
      "cell_type": "code",
      "execution_count": null,
      "metadata": {
        "id": "FP4QpoMs-rqk"
      },
      "outputs": [],
      "source": [
        "group_article_by_entity(bbc_ner, bbc_entity_sen, group_bbc)"
      ]
    },
    {
      "cell_type": "code",
      "execution_count": null,
      "metadata": {
        "id": "wDcKMW-q-rqk"
      },
      "outputs": [],
      "source": [
        "get_sentiments_by_entity_for_each_article(bbc, group_bbc, bbc_sentiment)"
      ]
    },
    {
      "cell_type": "code",
      "execution_count": null,
      "metadata": {
        "id": "0f1yNbbz-rqk"
      },
      "outputs": [],
      "source": [
        "bbc_entity_sentiment = []\n",
        "unique_entity_sentiemnt(bbc_unique_ne, bbc_sentiment, bbc_entity_sentiment)"
      ]
    },
    {
      "cell_type": "code",
      "execution_count": null,
      "metadata": {
        "id": "57_SA9TJ-rqk"
      },
      "outputs": [],
      "source": [
        "df_textblob = pd.DataFrame(bbc_entity_sentiment, columns =['Named Entity', 'Polarity', 'Subjectivity']) \n",
        "df_textblob[\"Sentiments\"] = df_textblob.apply(sentiments, axis= 1)"
      ]
    },
    {
      "cell_type": "code",
      "execution_count": null,
      "metadata": {
        "id": "eJCwxcdh-rqk"
      },
      "outputs": [],
      "source": [
        "# pd.set_option('display.max_rows', None)\n",
        "df_textblob"
      ]
    },
    {
      "cell_type": "code",
      "execution_count": null,
      "metadata": {
        "id": "tqknS03mF-Of"
      },
      "outputs": [],
      "source": [
        "df_textblob.to_excel(\"bbc.xlsx\", index=False)"
      ]
    },
    {
      "cell_type": "markdown",
      "metadata": {
        "id": "zPSkH2CyDVBA"
      },
      "source": [
        "# ukrinform"
      ]
    },
    {
      "cell_type": "code",
      "execution_count": null,
      "metadata": {
        "id": "nt7LUIGgDVBB"
      },
      "outputs": [],
      "source": [
        "ukrin_sentiment=[]\n",
        "ukrin_entity_sen = []\n",
        "group_ukrin = []\n",
        "entity_sentence(ukrin_articles, ukrin_ner, ukrin_entity_sen)"
      ]
    },
    {
      "cell_type": "code",
      "execution_count": null,
      "metadata": {
        "id": "FcIcqO30DVBB"
      },
      "outputs": [],
      "source": [
        "group_article_by_entity(ukrin_ner, ukrin_entity_sen, group_ukrin)"
      ]
    },
    {
      "cell_type": "code",
      "execution_count": null,
      "metadata": {
        "id": "az1xc7xtDVBB"
      },
      "outputs": [],
      "source": [
        "get_sentiments_by_entity_for_each_article(ukrin, group_ukrin, ukrin_sentiment)"
      ]
    },
    {
      "cell_type": "code",
      "execution_count": null,
      "metadata": {
        "id": "1Wi_1GB_DVBB"
      },
      "outputs": [],
      "source": [
        "ukrin_entity_sentiment = []\n",
        "unique_entity_sentiemnt(ukrin_unique_ne, ukrin_sentiment, ukrin_entity_sentiment)"
      ]
    },
    {
      "cell_type": "code",
      "execution_count": null,
      "metadata": {
        "id": "PXAmzcAADVBB"
      },
      "outputs": [],
      "source": [
        "df_textblob = pd.DataFrame(ukrin_entity_sentiment, columns =['Named Entity', 'Polarity', 'Subjectivity']) \n",
        "df_textblob[\"Sentiments\"] = df_textblob.apply(sentiments, axis= 1)"
      ]
    },
    {
      "cell_type": "code",
      "execution_count": null,
      "metadata": {
        "id": "bZRLwOzADVBB"
      },
      "outputs": [],
      "source": [
        "# pd.set_option('display.max_rows', None)\n",
        "df_textblob"
      ]
    },
    {
      "cell_type": "code",
      "execution_count": null,
      "metadata": {
        "id": "bZrzAjSxF1fC"
      },
      "outputs": [],
      "source": [
        "df_textblob.to_excel(\"ukrinform.xlsx\", index=False)"
      ]
    },
    {
      "cell_type": "markdown",
      "metadata": {
        "id": "zkyiEm2_EZRg"
      },
      "source": [
        "# CNA"
      ]
    },
    {
      "cell_type": "code",
      "execution_count": null,
      "metadata": {
        "id": "Xt-yxwlZEZRg"
      },
      "outputs": [],
      "source": [
        "cna_sentiment=[]\n",
        "cna_entity_sen = []\n",
        "group_cna = []\n",
        "entity_sentence(cna_articles, cna_ner, cna_entity_sen)"
      ]
    },
    {
      "cell_type": "code",
      "execution_count": null,
      "metadata": {
        "id": "fo5TO0TZEZRg"
      },
      "outputs": [],
      "source": [
        "group_article_by_entity(cna_ner, cna_entity_sen, group_cna)"
      ]
    },
    {
      "cell_type": "code",
      "execution_count": null,
      "metadata": {
        "id": "OeVa7z-wEZRh"
      },
      "outputs": [],
      "source": [
        "get_sentiments_by_entity_for_each_article(cna, group_cna, cna_sentiment)"
      ]
    },
    {
      "cell_type": "code",
      "execution_count": null,
      "metadata": {
        "id": "zubEKVldEZRh"
      },
      "outputs": [],
      "source": [
        "cna_entity_sentiment = []\n",
        "unique_entity_sentiemnt(cna_unique_ne, cna_sentiment, cna_entity_sentiment)"
      ]
    },
    {
      "cell_type": "code",
      "execution_count": null,
      "metadata": {
        "id": "tjufsZMjEZRh"
      },
      "outputs": [],
      "source": [
        "df_textblob = pd.DataFrame(cna_entity_sentiment, columns =['Named Entity', 'Polarity', 'Subjectivity']) \n",
        "df_textblob[\"Sentiments\"] = df_textblob.apply(sentiments, axis= 1)"
      ]
    },
    {
      "cell_type": "code",
      "execution_count": null,
      "metadata": {
        "colab": {
          "base_uri": "https://localhost:8080/",
          "height": 675
        },
        "id": "LMKboWiSEZRh",
        "outputId": "b23f46bc-180c-4eab-def3-ab9c54547683"
      },
      "outputs": [
        {
          "data": {
            "text/html": [
              "\n",
              "  <div id=\"df-ffe24920-4b67-40f8-be8e-650eb6d9ef78\">\n",
              "    <div class=\"colab-df-container\">\n",
              "      <div>\n",
              "<style scoped>\n",
              "    .dataframe tbody tr th:only-of-type {\n",
              "        vertical-align: middle;\n",
              "    }\n",
              "\n",
              "    .dataframe tbody tr th {\n",
              "        vertical-align: top;\n",
              "    }\n",
              "\n",
              "    .dataframe thead th {\n",
              "        text-align: right;\n",
              "    }\n",
              "</style>\n",
              "<table border=\"1\" class=\"dataframe\">\n",
              "  <thead>\n",
              "    <tr style=\"text-align: right;\">\n",
              "      <th></th>\n",
              "      <th>Named Entity</th>\n",
              "      <th>Polarity</th>\n",
              "      <th>Subjectivity</th>\n",
              "      <th>Sentiments</th>\n",
              "    </tr>\n",
              "  </thead>\n",
              "  <tbody>\n",
              "    <tr>\n",
              "      <th>0</th>\n",
              "      <td>Fahda Fahd</td>\n",
              "      <td>0.056944</td>\n",
              "      <td>0.361271</td>\n",
              "      <td>Positive</td>\n",
              "    </tr>\n",
              "    <tr>\n",
              "      <th>1</th>\n",
              "      <td>Kia</td>\n",
              "      <td>0.100000</td>\n",
              "      <td>0.345833</td>\n",
              "      <td>Positive</td>\n",
              "    </tr>\n",
              "    <tr>\n",
              "      <th>2</th>\n",
              "      <td>AFP</td>\n",
              "      <td>0.244702</td>\n",
              "      <td>0.621190</td>\n",
              "      <td>Positive</td>\n",
              "    </tr>\n",
              "    <tr>\n",
              "      <th>3</th>\n",
              "      <td>Saudi Arabia</td>\n",
              "      <td>0.200000</td>\n",
              "      <td>0.200000</td>\n",
              "      <td>Positive</td>\n",
              "    </tr>\n",
              "    <tr>\n",
              "      <th>4</th>\n",
              "      <td>Insaf</td>\n",
              "      <td>0.000000</td>\n",
              "      <td>0.500000</td>\n",
              "      <td>Neutral</td>\n",
              "    </tr>\n",
              "    <tr>\n",
              "      <th>5</th>\n",
              "      <td>Aya Diab</td>\n",
              "      <td>0.300000</td>\n",
              "      <td>0.566667</td>\n",
              "      <td>Positive</td>\n",
              "    </tr>\n",
              "    <tr>\n",
              "      <th>6</th>\n",
              "      <td>Delta</td>\n",
              "      <td>0.000000</td>\n",
              "      <td>0.000000</td>\n",
              "      <td>Neutral</td>\n",
              "    </tr>\n",
              "    <tr>\n",
              "      <th>7</th>\n",
              "      <td>Huawei</td>\n",
              "      <td>-0.085185</td>\n",
              "      <td>0.212963</td>\n",
              "      <td>Negative</td>\n",
              "    </tr>\n",
              "    <tr>\n",
              "      <th>8</th>\n",
              "      <td>Tencent</td>\n",
              "      <td>-0.085185</td>\n",
              "      <td>0.212963</td>\n",
              "      <td>Negative</td>\n",
              "    </tr>\n",
              "    <tr>\n",
              "      <th>...</th>\n",
              "      <td>...</td>\n",
              "      <td>...</td>\n",
              "      <td>...</td>\n",
              "      <td>...</td>\n",
              "    </tr>\n",
              "    <tr>\n",
              "      <th>341</th>\n",
              "      <td>Jordan Peele</td>\n",
              "      <td>0.033333</td>\n",
              "      <td>0.066667</td>\n",
              "      <td>Positive</td>\n",
              "    </tr>\n",
              "    <tr>\n",
              "      <th>342</th>\n",
              "      <td>Andrew Kan</td>\n",
              "      <td>0.000000</td>\n",
              "      <td>0.000000</td>\n",
              "      <td>Neutral</td>\n",
              "    </tr>\n",
              "    <tr>\n",
              "      <th>343</th>\n",
              "      <td>United Kingdom</td>\n",
              "      <td>0.357143</td>\n",
              "      <td>0.464286</td>\n",
              "      <td>Positive</td>\n",
              "    </tr>\n",
              "    <tr>\n",
              "      <th>344</th>\n",
              "      <td>Virtus Health</td>\n",
              "      <td>0.018750</td>\n",
              "      <td>0.418750</td>\n",
              "      <td>Positive</td>\n",
              "    </tr>\n",
              "    <tr>\n",
              "      <th>345</th>\n",
              "      <td>Virtus Fertility Centre</td>\n",
              "      <td>0.179487</td>\n",
              "      <td>0.440614</td>\n",
              "      <td>Positive</td>\n",
              "    </tr>\n",
              "    <tr>\n",
              "      <th>346</th>\n",
              "      <td>Liow Swee Lian</td>\n",
              "      <td>0.153571</td>\n",
              "      <td>0.232143</td>\n",
              "      <td>Positive</td>\n",
              "    </tr>\n",
              "    <tr>\n",
              "      <th>347</th>\n",
              "      <td>Liow</td>\n",
              "      <td>0.016327</td>\n",
              "      <td>0.293367</td>\n",
              "      <td>Positive</td>\n",
              "    </tr>\n",
              "    <tr>\n",
              "      <th>348</th>\n",
              "      <td>Dr Kan</td>\n",
              "      <td>0.145588</td>\n",
              "      <td>0.514076</td>\n",
              "      <td>Positive</td>\n",
              "    </tr>\n",
              "    <tr>\n",
              "      <th>349</th>\n",
              "      <td>Kan</td>\n",
              "      <td>0.145588</td>\n",
              "      <td>0.514076</td>\n",
              "      <td>Positive</td>\n",
              "    </tr>\n",
              "  </tbody>\n",
              "</table>\n",
              "<p>350 rows × 4 columns</p>\n",
              "</div>\n",
              "      <button class=\"colab-df-convert\" onclick=\"convertToInteractive('df-ffe24920-4b67-40f8-be8e-650eb6d9ef78')\"\n",
              "              title=\"Convert this dataframe to an interactive table.\"\n",
              "              style=\"display:none;\">\n",
              "        \n",
              "  <svg xmlns=\"http://www.w3.org/2000/svg\" height=\"24px\"viewBox=\"0 0 24 24\"\n",
              "       width=\"24px\">\n",
              "    <path d=\"M0 0h24v24H0V0z\" fill=\"none\"/>\n",
              "    <path d=\"M18.56 5.44l.94 2.06.94-2.06 2.06-.94-2.06-.94-.94-2.06-.94 2.06-2.06.94zm-11 1L8.5 8.5l.94-2.06 2.06-.94-2.06-.94L8.5 2.5l-.94 2.06-2.06.94zm10 10l.94 2.06.94-2.06 2.06-.94-2.06-.94-.94-2.06-.94 2.06-2.06.94z\"/><path d=\"M17.41 7.96l-1.37-1.37c-.4-.4-.92-.59-1.43-.59-.52 0-1.04.2-1.43.59L10.3 9.45l-7.72 7.72c-.78.78-.78 2.05 0 2.83L4 21.41c.39.39.9.59 1.41.59.51 0 1.02-.2 1.41-.59l7.78-7.78 2.81-2.81c.8-.78.8-2.07 0-2.86zM5.41 20L4 18.59l7.72-7.72 1.47 1.35L5.41 20z\"/>\n",
              "  </svg>\n",
              "      </button>\n",
              "      \n",
              "  <style>\n",
              "    .colab-df-container {\n",
              "      display:flex;\n",
              "      flex-wrap:wrap;\n",
              "      gap: 12px;\n",
              "    }\n",
              "\n",
              "    .colab-df-convert {\n",
              "      background-color: #E8F0FE;\n",
              "      border: none;\n",
              "      border-radius: 50%;\n",
              "      cursor: pointer;\n",
              "      display: none;\n",
              "      fill: #1967D2;\n",
              "      height: 32px;\n",
              "      padding: 0 0 0 0;\n",
              "      width: 32px;\n",
              "    }\n",
              "\n",
              "    .colab-df-convert:hover {\n",
              "      background-color: #E2EBFA;\n",
              "      box-shadow: 0px 1px 2px rgba(60, 64, 67, 0.3), 0px 1px 3px 1px rgba(60, 64, 67, 0.15);\n",
              "      fill: #174EA6;\n",
              "    }\n",
              "\n",
              "    [theme=dark] .colab-df-convert {\n",
              "      background-color: #3B4455;\n",
              "      fill: #D2E3FC;\n",
              "    }\n",
              "\n",
              "    [theme=dark] .colab-df-convert:hover {\n",
              "      background-color: #434B5C;\n",
              "      box-shadow: 0px 1px 3px 1px rgba(0, 0, 0, 0.15);\n",
              "      filter: drop-shadow(0px 1px 2px rgba(0, 0, 0, 0.3));\n",
              "      fill: #FFFFFF;\n",
              "    }\n",
              "  </style>\n",
              "\n",
              "      <script>\n",
              "        const buttonEl =\n",
              "          document.querySelector('#df-ffe24920-4b67-40f8-be8e-650eb6d9ef78 button.colab-df-convert');\n",
              "        buttonEl.style.display =\n",
              "          google.colab.kernel.accessAllowed ? 'block' : 'none';\n",
              "\n",
              "        async function convertToInteractive(key) {\n",
              "          const element = document.querySelector('#df-ffe24920-4b67-40f8-be8e-650eb6d9ef78');\n",
              "          const dataTable =\n",
              "            await google.colab.kernel.invokeFunction('convertToInteractive',\n",
              "                                                     [key], {});\n",
              "          if (!dataTable) return;\n",
              "\n",
              "          const docLinkHtml = 'Like what you see? Visit the ' +\n",
              "            '<a target=\"_blank\" href=https://colab.research.google.com/notebooks/data_table.ipynb>data table notebook</a>'\n",
              "            + ' to learn more about interactive tables.';\n",
              "          element.innerHTML = '';\n",
              "          dataTable['output_type'] = 'display_data';\n",
              "          await google.colab.output.renderOutput(dataTable, element);\n",
              "          const docLink = document.createElement('div');\n",
              "          docLink.innerHTML = docLinkHtml;\n",
              "          element.appendChild(docLink);\n",
              "        }\n",
              "      </script>\n",
              "    </div>\n",
              "  </div>\n",
              "  "
            ],
            "text/plain": [
              "                Named Entity  Polarity  Subjectivity Sentiments\n",
              "0                 Fahda Fahd  0.056944      0.361271   Positive\n",
              "1                        Kia  0.100000      0.345833   Positive\n",
              "2                        AFP  0.244702      0.621190   Positive\n",
              "3               Saudi Arabia  0.200000      0.200000   Positive\n",
              "4                      Insaf  0.000000      0.500000    Neutral\n",
              "5                   Aya Diab  0.300000      0.566667   Positive\n",
              "6                      Delta  0.000000      0.000000    Neutral\n",
              "7                     Huawei -0.085185      0.212963   Negative\n",
              "8                    Tencent -0.085185      0.212963   Negative\n",
              "..                       ...       ...           ...        ...\n",
              "341             Jordan Peele  0.033333      0.066667   Positive\n",
              "342               Andrew Kan  0.000000      0.000000    Neutral\n",
              "343           United Kingdom  0.357143      0.464286   Positive\n",
              "344            Virtus Health  0.018750      0.418750   Positive\n",
              "345  Virtus Fertility Centre  0.179487      0.440614   Positive\n",
              "346           Liow Swee Lian  0.153571      0.232143   Positive\n",
              "347                     Liow  0.016327      0.293367   Positive\n",
              "348                   Dr Kan  0.145588      0.514076   Positive\n",
              "349                      Kan  0.145588      0.514076   Positive\n",
              "\n",
              "[350 rows x 4 columns]"
            ]
          },
          "execution_count": 84,
          "metadata": {},
          "output_type": "execute_result"
        }
      ],
      "source": [
        "pd.set_option('display.max_rows', False)\n",
        "df_textblob"
      ]
    },
    {
      "cell_type": "code",
      "execution_count": null,
      "metadata": {
        "id": "BBSXuW2aFXLh"
      },
      "outputs": [],
      "source": [
        "df_textblob.to_excel(\"cna.xlsx\", index=False)"
      ]
    },
    {
      "cell_type": "code",
      "execution_count": null,
      "metadata": {
        "id": "fob9-DnvCujL"
      },
      "outputs": [],
      "source": []
    },
    {
      "cell_type": "markdown",
      "metadata": {
        "id": "oUqHAzGGBkzJ"
      },
      "source": [
        "# Tass"
      ]
    },
    {
      "cell_type": "code",
      "execution_count": null,
      "metadata": {
        "id": "_0NqugpV7UJR"
      },
      "outputs": [],
      "source": [
        "tass_sentiment=[]\n",
        "tass_entity_sen = []\n",
        "group_tass = []\n",
        "entity_sentence(tass_articles, tass_ner, tass_entity_sen)"
      ]
    },
    {
      "cell_type": "code",
      "execution_count": null,
      "metadata": {
        "id": "HG6jZ3R-Ran1"
      },
      "outputs": [],
      "source": []
    },
    {
      "cell_type": "code",
      "execution_count": null,
      "metadata": {
        "id": "_SO1YxH17UJR"
      },
      "outputs": [],
      "source": [
        "group_article_by_entity(tass_ner, tass_entity_sen, group_tass)"
      ]
    },
    {
      "cell_type": "code",
      "execution_count": null,
      "metadata": {
        "id": "TmlwvD8r7UJR"
      },
      "outputs": [],
      "source": [
        "get_sentiments_by_entity_for_each_article(tass, group_tass, tass_sentiment)"
      ]
    },
    {
      "cell_type": "code",
      "execution_count": null,
      "metadata": {
        "id": "Sg6KU2pcP1gp"
      },
      "outputs": [],
      "source": [
        "tass_sentiment"
      ]
    },
    {
      "cell_type": "code",
      "execution_count": null,
      "metadata": {
        "id": "opDcdqBP7UJR"
      },
      "outputs": [],
      "source": [
        "tass_entity_sentiment = []\n",
        "unique_entity_sentiemnt(tass_unique_ne, tass_sentiment, tass_entity_sentiment)"
      ]
    },
    {
      "cell_type": "code",
      "execution_count": null,
      "metadata": {
        "id": "cPYUCUO67UJS"
      },
      "outputs": [],
      "source": [
        "df_textblob = pd.DataFrame(tass_entity_sentiment, columns =['Named Entity', 'Polarity', 'Subjectivity']) \n",
        "df_textblob[\"Sentiments\"] = df_textblob.apply(sentiments, axis= 1)"
      ]
    },
    {
      "cell_type": "code",
      "execution_count": null,
      "metadata": {
        "colab": {
          "base_uri": "https://localhost:8080/",
          "height": 675
        },
        "id": "cikudvvx7UJS",
        "outputId": "d5eae272-e992-470a-a0a1-03f202a8b3e3"
      },
      "outputs": [
        {
          "data": {
            "text/html": [
              "\n",
              "  <div id=\"df-7f7a42e2-b64c-482b-8205-f3fdf49e1501\">\n",
              "    <div class=\"colab-df-container\">\n",
              "      <div>\n",
              "<style scoped>\n",
              "    .dataframe tbody tr th:only-of-type {\n",
              "        vertical-align: middle;\n",
              "    }\n",
              "\n",
              "    .dataframe tbody tr th {\n",
              "        vertical-align: top;\n",
              "    }\n",
              "\n",
              "    .dataframe thead th {\n",
              "        text-align: right;\n",
              "    }\n",
              "</style>\n",
              "<table border=\"1\" class=\"dataframe\">\n",
              "  <thead>\n",
              "    <tr style=\"text-align: right;\">\n",
              "      <th></th>\n",
              "      <th>Named Entity</th>\n",
              "      <th>Polarity</th>\n",
              "      <th>Subjectivity</th>\n",
              "      <th>Sentiments</th>\n",
              "    </tr>\n",
              "  </thead>\n",
              "  <tbody>\n",
              "    <tr>\n",
              "      <th>0</th>\n",
              "      <td>TASS</td>\n",
              "      <td>0.218083</td>\n",
              "      <td>0.787963</td>\n",
              "      <td>Positive</td>\n",
              "    </tr>\n",
              "    <tr>\n",
              "      <th>1</th>\n",
              "      <td>Ukraine</td>\n",
              "      <td>0.227138</td>\n",
              "      <td>1.488419</td>\n",
              "      <td>Positive</td>\n",
              "    </tr>\n",
              "    <tr>\n",
              "      <th>2</th>\n",
              "      <td>KIEV</td>\n",
              "      <td>0.032143</td>\n",
              "      <td>0.578205</td>\n",
              "      <td>Positive</td>\n",
              "    </tr>\n",
              "    <tr>\n",
              "      <th>3</th>\n",
              "      <td>Vladimir Zelensky</td>\n",
              "      <td>0.037164</td>\n",
              "      <td>1.050835</td>\n",
              "      <td>Positive</td>\n",
              "    </tr>\n",
              "    <tr>\n",
              "      <th>4</th>\n",
              "      <td>EU</td>\n",
              "      <td>0.241126</td>\n",
              "      <td>1.177887</td>\n",
              "      <td>Positive</td>\n",
              "    </tr>\n",
              "    <tr>\n",
              "      <th>5</th>\n",
              "      <td>Andrey Yermak</td>\n",
              "      <td>0.000000</td>\n",
              "      <td>0.300000</td>\n",
              "      <td>Neutral</td>\n",
              "    </tr>\n",
              "    <tr>\n",
              "      <th>6</th>\n",
              "      <td>France</td>\n",
              "      <td>0.124652</td>\n",
              "      <td>0.552534</td>\n",
              "      <td>Positive</td>\n",
              "    </tr>\n",
              "    <tr>\n",
              "      <th>7</th>\n",
              "      <td>Mark Rutte</td>\n",
              "      <td>0.016667</td>\n",
              "      <td>0.366667</td>\n",
              "      <td>Positive</td>\n",
              "    </tr>\n",
              "    <tr>\n",
              "      <th>8</th>\n",
              "      <td>Russia</td>\n",
              "      <td>0.218330</td>\n",
              "      <td>1.904049</td>\n",
              "      <td>Positive</td>\n",
              "    </tr>\n",
              "    <tr>\n",
              "      <th>...</th>\n",
              "      <td>...</td>\n",
              "      <td>...</td>\n",
              "      <td>...</td>\n",
              "      <td>...</td>\n",
              "    </tr>\n",
              "    <tr>\n",
              "      <th>1198</th>\n",
              "      <td>Daleep Singh</td>\n",
              "      <td>0.268095</td>\n",
              "      <td>0.750952</td>\n",
              "      <td>Positive</td>\n",
              "    </tr>\n",
              "    <tr>\n",
              "      <th>1199</th>\n",
              "      <td>CBS</td>\n",
              "      <td>0.050000</td>\n",
              "      <td>0.450000</td>\n",
              "      <td>Positive</td>\n",
              "    </tr>\n",
              "    <tr>\n",
              "      <th>1200</th>\n",
              "      <td>International Economics</td>\n",
              "      <td>0.268095</td>\n",
              "      <td>0.750952</td>\n",
              "      <td>Positive</td>\n",
              "    </tr>\n",
              "    <tr>\n",
              "      <th>1201</th>\n",
              "      <td>Daleep Singh Russian</td>\n",
              "      <td>0.000000</td>\n",
              "      <td>0.000000</td>\n",
              "      <td>Neutral</td>\n",
              "    </tr>\n",
              "    <tr>\n",
              "      <th>1202</th>\n",
              "      <td>Josep Borrel</td>\n",
              "      <td>0.010714</td>\n",
              "      <td>0.498810</td>\n",
              "      <td>Positive</td>\n",
              "    </tr>\n",
              "    <tr>\n",
              "      <th>1203</th>\n",
              "      <td>Dmitry Zhivitsky</td>\n",
              "      <td>0.000000</td>\n",
              "      <td>0.400000</td>\n",
              "      <td>Neutral</td>\n",
              "    </tr>\n",
              "    <tr>\n",
              "      <th>1204</th>\n",
              "      <td>Novoselitsa</td>\n",
              "      <td>0.000000</td>\n",
              "      <td>0.000000</td>\n",
              "      <td>Neutral</td>\n",
              "    </tr>\n",
              "    <tr>\n",
              "      <th>1205</th>\n",
              "      <td>Novoselitsa Telegram</td>\n",
              "      <td>0.000000</td>\n",
              "      <td>0.000000</td>\n",
              "      <td>Neutral</td>\n",
              "    </tr>\n",
              "    <tr>\n",
              "      <th>1206</th>\n",
              "      <td>State Emergency Situations Service</td>\n",
              "      <td>0.000000</td>\n",
              "      <td>0.000000</td>\n",
              "      <td>Neutral</td>\n",
              "    </tr>\n",
              "  </tbody>\n",
              "</table>\n",
              "<p>1207 rows × 4 columns</p>\n",
              "</div>\n",
              "      <button class=\"colab-df-convert\" onclick=\"convertToInteractive('df-7f7a42e2-b64c-482b-8205-f3fdf49e1501')\"\n",
              "              title=\"Convert this dataframe to an interactive table.\"\n",
              "              style=\"display:none;\">\n",
              "        \n",
              "  <svg xmlns=\"http://www.w3.org/2000/svg\" height=\"24px\"viewBox=\"0 0 24 24\"\n",
              "       width=\"24px\">\n",
              "    <path d=\"M0 0h24v24H0V0z\" fill=\"none\"/>\n",
              "    <path d=\"M18.56 5.44l.94 2.06.94-2.06 2.06-.94-2.06-.94-.94-2.06-.94 2.06-2.06.94zm-11 1L8.5 8.5l.94-2.06 2.06-.94-2.06-.94L8.5 2.5l-.94 2.06-2.06.94zm10 10l.94 2.06.94-2.06 2.06-.94-2.06-.94-.94-2.06-.94 2.06-2.06.94z\"/><path d=\"M17.41 7.96l-1.37-1.37c-.4-.4-.92-.59-1.43-.59-.52 0-1.04.2-1.43.59L10.3 9.45l-7.72 7.72c-.78.78-.78 2.05 0 2.83L4 21.41c.39.39.9.59 1.41.59.51 0 1.02-.2 1.41-.59l7.78-7.78 2.81-2.81c.8-.78.8-2.07 0-2.86zM5.41 20L4 18.59l7.72-7.72 1.47 1.35L5.41 20z\"/>\n",
              "  </svg>\n",
              "      </button>\n",
              "      \n",
              "  <style>\n",
              "    .colab-df-container {\n",
              "      display:flex;\n",
              "      flex-wrap:wrap;\n",
              "      gap: 12px;\n",
              "    }\n",
              "\n",
              "    .colab-df-convert {\n",
              "      background-color: #E8F0FE;\n",
              "      border: none;\n",
              "      border-radius: 50%;\n",
              "      cursor: pointer;\n",
              "      display: none;\n",
              "      fill: #1967D2;\n",
              "      height: 32px;\n",
              "      padding: 0 0 0 0;\n",
              "      width: 32px;\n",
              "    }\n",
              "\n",
              "    .colab-df-convert:hover {\n",
              "      background-color: #E2EBFA;\n",
              "      box-shadow: 0px 1px 2px rgba(60, 64, 67, 0.3), 0px 1px 3px 1px rgba(60, 64, 67, 0.15);\n",
              "      fill: #174EA6;\n",
              "    }\n",
              "\n",
              "    [theme=dark] .colab-df-convert {\n",
              "      background-color: #3B4455;\n",
              "      fill: #D2E3FC;\n",
              "    }\n",
              "\n",
              "    [theme=dark] .colab-df-convert:hover {\n",
              "      background-color: #434B5C;\n",
              "      box-shadow: 0px 1px 3px 1px rgba(0, 0, 0, 0.15);\n",
              "      filter: drop-shadow(0px 1px 2px rgba(0, 0, 0, 0.3));\n",
              "      fill: #FFFFFF;\n",
              "    }\n",
              "  </style>\n",
              "\n",
              "      <script>\n",
              "        const buttonEl =\n",
              "          document.querySelector('#df-7f7a42e2-b64c-482b-8205-f3fdf49e1501 button.colab-df-convert');\n",
              "        buttonEl.style.display =\n",
              "          google.colab.kernel.accessAllowed ? 'block' : 'none';\n",
              "\n",
              "        async function convertToInteractive(key) {\n",
              "          const element = document.querySelector('#df-7f7a42e2-b64c-482b-8205-f3fdf49e1501');\n",
              "          const dataTable =\n",
              "            await google.colab.kernel.invokeFunction('convertToInteractive',\n",
              "                                                     [key], {});\n",
              "          if (!dataTable) return;\n",
              "\n",
              "          const docLinkHtml = 'Like what you see? Visit the ' +\n",
              "            '<a target=\"_blank\" href=https://colab.research.google.com/notebooks/data_table.ipynb>data table notebook</a>'\n",
              "            + ' to learn more about interactive tables.';\n",
              "          element.innerHTML = '';\n",
              "          dataTable['output_type'] = 'display_data';\n",
              "          await google.colab.output.renderOutput(dataTable, element);\n",
              "          const docLink = document.createElement('div');\n",
              "          docLink.innerHTML = docLinkHtml;\n",
              "          element.appendChild(docLink);\n",
              "        }\n",
              "      </script>\n",
              "    </div>\n",
              "  </div>\n",
              "  "
            ],
            "text/plain": [
              "                            Named Entity  Polarity  Subjectivity Sentiments\n",
              "0                                   TASS  0.218083      0.787963   Positive\n",
              "1                                Ukraine  0.227138      1.488419   Positive\n",
              "2                                   KIEV  0.032143      0.578205   Positive\n",
              "3                      Vladimir Zelensky  0.037164      1.050835   Positive\n",
              "4                                     EU  0.241126      1.177887   Positive\n",
              "5                          Andrey Yermak  0.000000      0.300000    Neutral\n",
              "6                                 France  0.124652      0.552534   Positive\n",
              "7                             Mark Rutte  0.016667      0.366667   Positive\n",
              "8                                 Russia  0.218330      1.904049   Positive\n",
              "...                                  ...       ...           ...        ...\n",
              "1198                        Daleep Singh  0.268095      0.750952   Positive\n",
              "1199                                 CBS  0.050000      0.450000   Positive\n",
              "1200             International Economics  0.268095      0.750952   Positive\n",
              "1201                Daleep Singh Russian  0.000000      0.000000    Neutral\n",
              "1202                        Josep Borrel  0.010714      0.498810   Positive\n",
              "1203                    Dmitry Zhivitsky  0.000000      0.400000    Neutral\n",
              "1204                         Novoselitsa  0.000000      0.000000    Neutral\n",
              "1205                Novoselitsa Telegram  0.000000      0.000000    Neutral\n",
              "1206  State Emergency Situations Service  0.000000      0.000000    Neutral\n",
              "\n",
              "[1207 rows x 4 columns]"
            ]
          },
          "execution_count": 95,
          "metadata": {},
          "output_type": "execute_result"
        }
      ],
      "source": [
        "df_textblob"
      ]
    },
    {
      "cell_type": "code",
      "execution_count": null,
      "metadata": {
        "id": "QInmwPDgCvFX"
      },
      "outputs": [],
      "source": [
        "df_textblob.to_excel(\"tass.xlsx\", index=False)"
      ]
    },
    {
      "cell_type": "markdown",
      "metadata": {
        "id": "NQUpH0Z3j-0a"
      },
      "source": [
        "# Stop stanza"
      ]
    },
    {
      "cell_type": "code",
      "execution_count": null,
      "metadata": {
        "id": "QPiXdhyoj8KW"
      },
      "outputs": [],
      "source": [
        "# Shut down the background CoreNLP server\n",
        "client.stop()\n",
        "\n",
        "time.sleep(10)\n",
        "!ps -o pid,cmd | grep java"
      ]
    },
    {
      "cell_type": "code",
      "execution_count": null,
      "metadata": {
        "id": "_TAHdndbmhlm"
      },
      "outputs": [],
      "source": []
    }
  ],
  "metadata": {
    "accelerator": "GPU",
    "colab": {
      "collapsed_sections": [],
      "name": "TMNLP.ipynb",
      "provenance": []
    },
    "kernelspec": {
      "display_name": "Python 3",
      "name": "python3"
    },
    "language_info": {
      "name": "python"
    },
    "widgets": {
      "application/vnd.jupyter.widget-state+json": {
        "01665a4aa12c45feb4b1bc8f44eef97b": {
          "model_module": "@jupyter-widgets/controls",
          "model_module_version": "1.5.0",
          "model_name": "HTMLModel",
          "state": {
            "_dom_classes": [],
            "_model_module": "@jupyter-widgets/controls",
            "_model_module_version": "1.5.0",
            "_model_name": "HTMLModel",
            "_view_count": null,
            "_view_module": "@jupyter-widgets/controls",
            "_view_module_version": "1.5.0",
            "_view_name": "HTMLView",
            "description": "",
            "description_tooltip": null,
            "layout": "IPY_MODEL_247148c218c046be9d10a28984c716a2",
            "placeholder": "​",
            "style": "IPY_MODEL_78ed6b51ee6248ff91a34637fb245fc6",
            "value": "Downloading https://huggingface.co/stanfordnlp/CoreNLP/resolve/main/stanford-corenlp-latest.zip: 100%"
          }
        },
        "247148c218c046be9d10a28984c716a2": {
          "model_module": "@jupyter-widgets/base",
          "model_module_version": "1.2.0",
          "model_name": "LayoutModel",
          "state": {
            "_model_module": "@jupyter-widgets/base",
            "_model_module_version": "1.2.0",
            "_model_name": "LayoutModel",
            "_view_count": null,
            "_view_module": "@jupyter-widgets/base",
            "_view_module_version": "1.2.0",
            "_view_name": "LayoutView",
            "align_content": null,
            "align_items": null,
            "align_self": null,
            "border": null,
            "bottom": null,
            "display": null,
            "flex": null,
            "flex_flow": null,
            "grid_area": null,
            "grid_auto_columns": null,
            "grid_auto_flow": null,
            "grid_auto_rows": null,
            "grid_column": null,
            "grid_gap": null,
            "grid_row": null,
            "grid_template_areas": null,
            "grid_template_columns": null,
            "grid_template_rows": null,
            "height": null,
            "justify_content": null,
            "justify_items": null,
            "left": null,
            "margin": null,
            "max_height": null,
            "max_width": null,
            "min_height": null,
            "min_width": null,
            "object_fit": null,
            "object_position": null,
            "order": null,
            "overflow": null,
            "overflow_x": null,
            "overflow_y": null,
            "padding": null,
            "right": null,
            "top": null,
            "visibility": null,
            "width": null
          }
        },
        "78ed6b51ee6248ff91a34637fb245fc6": {
          "model_module": "@jupyter-widgets/controls",
          "model_module_version": "1.5.0",
          "model_name": "DescriptionStyleModel",
          "state": {
            "_model_module": "@jupyter-widgets/controls",
            "_model_module_version": "1.5.0",
            "_model_name": "DescriptionStyleModel",
            "_view_count": null,
            "_view_module": "@jupyter-widgets/base",
            "_view_module_version": "1.2.0",
            "_view_name": "StyleView",
            "description_width": ""
          }
        },
        "7fc76eefc9b64ba59aa07eb3e8d12905": {
          "model_module": "@jupyter-widgets/base",
          "model_module_version": "1.2.0",
          "model_name": "LayoutModel",
          "state": {
            "_model_module": "@jupyter-widgets/base",
            "_model_module_version": "1.2.0",
            "_model_name": "LayoutModel",
            "_view_count": null,
            "_view_module": "@jupyter-widgets/base",
            "_view_module_version": "1.2.0",
            "_view_name": "LayoutView",
            "align_content": null,
            "align_items": null,
            "align_self": null,
            "border": null,
            "bottom": null,
            "display": null,
            "flex": null,
            "flex_flow": null,
            "grid_area": null,
            "grid_auto_columns": null,
            "grid_auto_flow": null,
            "grid_auto_rows": null,
            "grid_column": null,
            "grid_gap": null,
            "grid_row": null,
            "grid_template_areas": null,
            "grid_template_columns": null,
            "grid_template_rows": null,
            "height": null,
            "justify_content": null,
            "justify_items": null,
            "left": null,
            "margin": null,
            "max_height": null,
            "max_width": null,
            "min_height": null,
            "min_width": null,
            "object_fit": null,
            "object_position": null,
            "order": null,
            "overflow": null,
            "overflow_x": null,
            "overflow_y": null,
            "padding": null,
            "right": null,
            "top": null,
            "visibility": null,
            "width": null
          }
        },
        "8e20692d7da04c0ba6fde22fb8fcaba0": {
          "model_module": "@jupyter-widgets/controls",
          "model_module_version": "1.5.0",
          "model_name": "ProgressStyleModel",
          "state": {
            "_model_module": "@jupyter-widgets/controls",
            "_model_module_version": "1.5.0",
            "_model_name": "ProgressStyleModel",
            "_view_count": null,
            "_view_module": "@jupyter-widgets/base",
            "_view_module_version": "1.2.0",
            "_view_name": "StyleView",
            "bar_color": null,
            "description_width": ""
          }
        },
        "a0ba80f58acd428782e20297f832f35d": {
          "model_module": "@jupyter-widgets/controls",
          "model_module_version": "1.5.0",
          "model_name": "DescriptionStyleModel",
          "state": {
            "_model_module": "@jupyter-widgets/controls",
            "_model_module_version": "1.5.0",
            "_model_name": "DescriptionStyleModel",
            "_view_count": null,
            "_view_module": "@jupyter-widgets/base",
            "_view_module_version": "1.2.0",
            "_view_name": "StyleView",
            "description_width": ""
          }
        },
        "a8543de9ee2841f9bbde6f5788828a96": {
          "model_module": "@jupyter-widgets/base",
          "model_module_version": "1.2.0",
          "model_name": "LayoutModel",
          "state": {
            "_model_module": "@jupyter-widgets/base",
            "_model_module_version": "1.2.0",
            "_model_name": "LayoutModel",
            "_view_count": null,
            "_view_module": "@jupyter-widgets/base",
            "_view_module_version": "1.2.0",
            "_view_name": "LayoutView",
            "align_content": null,
            "align_items": null,
            "align_self": null,
            "border": null,
            "bottom": null,
            "display": null,
            "flex": null,
            "flex_flow": null,
            "grid_area": null,
            "grid_auto_columns": null,
            "grid_auto_flow": null,
            "grid_auto_rows": null,
            "grid_column": null,
            "grid_gap": null,
            "grid_row": null,
            "grid_template_areas": null,
            "grid_template_columns": null,
            "grid_template_rows": null,
            "height": null,
            "justify_content": null,
            "justify_items": null,
            "left": null,
            "margin": null,
            "max_height": null,
            "max_width": null,
            "min_height": null,
            "min_width": null,
            "object_fit": null,
            "object_position": null,
            "order": null,
            "overflow": null,
            "overflow_x": null,
            "overflow_y": null,
            "padding": null,
            "right": null,
            "top": null,
            "visibility": null,
            "width": null
          }
        },
        "addceca0e6e34dcb9f6da4afbd57efe7": {
          "model_module": "@jupyter-widgets/base",
          "model_module_version": "1.2.0",
          "model_name": "LayoutModel",
          "state": {
            "_model_module": "@jupyter-widgets/base",
            "_model_module_version": "1.2.0",
            "_model_name": "LayoutModel",
            "_view_count": null,
            "_view_module": "@jupyter-widgets/base",
            "_view_module_version": "1.2.0",
            "_view_name": "LayoutView",
            "align_content": null,
            "align_items": null,
            "align_self": null,
            "border": null,
            "bottom": null,
            "display": null,
            "flex": null,
            "flex_flow": null,
            "grid_area": null,
            "grid_auto_columns": null,
            "grid_auto_flow": null,
            "grid_auto_rows": null,
            "grid_column": null,
            "grid_gap": null,
            "grid_row": null,
            "grid_template_areas": null,
            "grid_template_columns": null,
            "grid_template_rows": null,
            "height": null,
            "justify_content": null,
            "justify_items": null,
            "left": null,
            "margin": null,
            "max_height": null,
            "max_width": null,
            "min_height": null,
            "min_width": null,
            "object_fit": null,
            "object_position": null,
            "order": null,
            "overflow": null,
            "overflow_x": null,
            "overflow_y": null,
            "padding": null,
            "right": null,
            "top": null,
            "visibility": null,
            "width": null
          }
        },
        "d71eb370cbd34e51b90dcb61664869b0": {
          "model_module": "@jupyter-widgets/controls",
          "model_module_version": "1.5.0",
          "model_name": "HBoxModel",
          "state": {
            "_dom_classes": [],
            "_model_module": "@jupyter-widgets/controls",
            "_model_module_version": "1.5.0",
            "_model_name": "HBoxModel",
            "_view_count": null,
            "_view_module": "@jupyter-widgets/controls",
            "_view_module_version": "1.5.0",
            "_view_name": "HBoxView",
            "box_style": "",
            "children": [
              "IPY_MODEL_01665a4aa12c45feb4b1bc8f44eef97b",
              "IPY_MODEL_e18732c91e0b4cb8aa3d6bb23c0f9e5c",
              "IPY_MODEL_f9344245bf904309bd00597b5883f41f"
            ],
            "layout": "IPY_MODEL_addceca0e6e34dcb9f6da4afbd57efe7"
          }
        },
        "e18732c91e0b4cb8aa3d6bb23c0f9e5c": {
          "model_module": "@jupyter-widgets/controls",
          "model_module_version": "1.5.0",
          "model_name": "FloatProgressModel",
          "state": {
            "_dom_classes": [],
            "_model_module": "@jupyter-widgets/controls",
            "_model_module_version": "1.5.0",
            "_model_name": "FloatProgressModel",
            "_view_count": null,
            "_view_module": "@jupyter-widgets/controls",
            "_view_module_version": "1.5.0",
            "_view_name": "ProgressView",
            "bar_style": "success",
            "description": "",
            "description_tooltip": null,
            "layout": "IPY_MODEL_7fc76eefc9b64ba59aa07eb3e8d12905",
            "max": 505207915,
            "min": 0,
            "orientation": "horizontal",
            "style": "IPY_MODEL_8e20692d7da04c0ba6fde22fb8fcaba0",
            "value": 505207915
          }
        },
        "f9344245bf904309bd00597b5883f41f": {
          "model_module": "@jupyter-widgets/controls",
          "model_module_version": "1.5.0",
          "model_name": "HTMLModel",
          "state": {
            "_dom_classes": [],
            "_model_module": "@jupyter-widgets/controls",
            "_model_module_version": "1.5.0",
            "_model_name": "HTMLModel",
            "_view_count": null,
            "_view_module": "@jupyter-widgets/controls",
            "_view_module_version": "1.5.0",
            "_view_name": "HTMLView",
            "description": "",
            "description_tooltip": null,
            "layout": "IPY_MODEL_a8543de9ee2841f9bbde6f5788828a96",
            "placeholder": "​",
            "style": "IPY_MODEL_a0ba80f58acd428782e20297f832f35d",
            "value": " 505M/505M [00:03&lt;00:00, 114MB/s]"
          }
        }
      }
    }
  },
  "nbformat": 4,
  "nbformat_minor": 0
}
